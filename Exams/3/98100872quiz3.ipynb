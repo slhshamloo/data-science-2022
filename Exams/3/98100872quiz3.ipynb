{
 "cells": [
  {
   "cell_type": "markdown",
   "metadata": {},
   "source": [
    "# 1) OLS vs. Regularized Linear Regression"
   ]
  },
  {
   "cell_type": "markdown",
   "metadata": {},
   "source": [
    "In OLS, the goal is to minimize the cost function\n",
    "$$J(\\theta) = \\frac{1}{2m}\\sum_{j=1}^{m}(h_\\theta(x^{(i)}) - y^{(i)})^2; \\quad h_\\theta(x^{(i)}) = \\theta^T x$$\n",
    "where $i$ runs over all data points and the goal is to minimize the function over the $\\theta$ vector.\n",
    "In regularized linear regression, we add a term to this cost function that helps make the coefficients smaller. Specifically, the new cost function is\n",
    "$$J(\\theta) = \\frac{1}{2m}\\sum_{j=1}^{m}(h_\\theta(x^{(i)}) - y^{(i)})^2 + \\frac{\\lambda}{2m} \\sum_{j=1}^{n}\\theta_j^2$$\n",
    "where $j$ runs over all comonents of the $\\theta$ vector exept for the bias."
   ]
  },
  {
   "cell_type": "markdown",
   "metadata": {},
   "source": [
    "# 2) Where to Use Regularized Linear Regression"
   ]
  },
  {
   "cell_type": "markdown",
   "metadata": {},
   "source": [
    "When we have too many features and little data, our model may overfit the dataset. In this kind of situation, we can remove features. But this might be undesirable, and we might want to use every feature of our data. By using regularized linear regression, we can stop coefficients from growing too large and by doing this we can keep every feature and avoid overfitting at the same time.\n",
    "\n",
    "When we have few features and too much data, regularized linear regression will not help fix underfitting (or too much bias).\n",
    "\n",
    "The disadvantage of regularized linear regression is that it will reduce the model's ability to fit the data. So if we can alternatively get more data, that would be a better approach to avoid overfitting, since we can let our model fit the data unrestrained."
   ]
  },
  {
   "cell_type": "markdown",
   "metadata": {},
   "source": [
    "# 3) A Regularized Linear Regression Example (Insurance)\n",
    "## Processing the Data"
   ]
  },
  {
   "cell_type": "code",
   "execution_count": 1,
   "metadata": {},
   "outputs": [
    {
     "data": {
      "text/html": [
       "<table class=\"data-frame\"><thead><tr><th></th><th>age</th><th>sex</th><th>bmi</th><th>children</th><th>smoker</th><th>region</th><th>charges</th></tr><tr><th></th><th>Int64</th><th>String7</th><th>Float64</th><th>Int64</th><th>String3</th><th>String15</th><th>Float64</th></tr></thead><tbody><p>1,338 rows × 7 columns</p><tr><th>1</th><td>19</td><td>female</td><td>27.9</td><td>0</td><td>yes</td><td>southwest</td><td>16884.9</td></tr><tr><th>2</th><td>18</td><td>male</td><td>33.77</td><td>1</td><td>no</td><td>southeast</td><td>1725.55</td></tr><tr><th>3</th><td>28</td><td>male</td><td>33.0</td><td>3</td><td>no</td><td>southeast</td><td>4449.46</td></tr><tr><th>4</th><td>33</td><td>male</td><td>22.705</td><td>0</td><td>no</td><td>northwest</td><td>21984.5</td></tr><tr><th>5</th><td>32</td><td>male</td><td>28.88</td><td>0</td><td>no</td><td>northwest</td><td>3866.86</td></tr><tr><th>6</th><td>31</td><td>female</td><td>25.74</td><td>0</td><td>no</td><td>southeast</td><td>3756.62</td></tr><tr><th>7</th><td>46</td><td>female</td><td>33.44</td><td>1</td><td>no</td><td>southeast</td><td>8240.59</td></tr><tr><th>8</th><td>37</td><td>female</td><td>27.74</td><td>3</td><td>no</td><td>northwest</td><td>7281.51</td></tr><tr><th>9</th><td>37</td><td>male</td><td>29.83</td><td>2</td><td>no</td><td>northeast</td><td>6406.41</td></tr><tr><th>10</th><td>60</td><td>female</td><td>25.84</td><td>0</td><td>no</td><td>northwest</td><td>28923.1</td></tr><tr><th>11</th><td>25</td><td>male</td><td>26.22</td><td>0</td><td>no</td><td>northeast</td><td>2721.32</td></tr><tr><th>12</th><td>62</td><td>female</td><td>26.29</td><td>0</td><td>yes</td><td>southeast</td><td>27808.7</td></tr><tr><th>13</th><td>23</td><td>male</td><td>34.4</td><td>0</td><td>no</td><td>southwest</td><td>1826.84</td></tr><tr><th>14</th><td>56</td><td>female</td><td>39.82</td><td>0</td><td>no</td><td>southeast</td><td>11090.7</td></tr><tr><th>15</th><td>27</td><td>male</td><td>42.13</td><td>0</td><td>yes</td><td>southeast</td><td>39611.8</td></tr><tr><th>16</th><td>19</td><td>male</td><td>24.6</td><td>1</td><td>no</td><td>southwest</td><td>1837.24</td></tr><tr><th>17</th><td>52</td><td>female</td><td>30.78</td><td>1</td><td>no</td><td>northeast</td><td>10797.3</td></tr><tr><th>18</th><td>23</td><td>male</td><td>23.845</td><td>0</td><td>no</td><td>northeast</td><td>2395.17</td></tr><tr><th>19</th><td>56</td><td>male</td><td>40.3</td><td>0</td><td>no</td><td>southwest</td><td>10602.4</td></tr><tr><th>20</th><td>30</td><td>male</td><td>35.3</td><td>0</td><td>yes</td><td>southwest</td><td>36837.5</td></tr><tr><th>21</th><td>60</td><td>female</td><td>36.005</td><td>0</td><td>no</td><td>northeast</td><td>13228.8</td></tr><tr><th>22</th><td>30</td><td>female</td><td>32.4</td><td>1</td><td>no</td><td>southwest</td><td>4149.74</td></tr><tr><th>23</th><td>18</td><td>male</td><td>34.1</td><td>0</td><td>no</td><td>southeast</td><td>1137.01</td></tr><tr><th>24</th><td>34</td><td>female</td><td>31.92</td><td>1</td><td>yes</td><td>northeast</td><td>37701.9</td></tr><tr><th>25</th><td>37</td><td>male</td><td>28.025</td><td>2</td><td>no</td><td>northwest</td><td>6203.9</td></tr><tr><th>26</th><td>59</td><td>female</td><td>27.72</td><td>3</td><td>no</td><td>southeast</td><td>14001.1</td></tr><tr><th>27</th><td>63</td><td>female</td><td>23.085</td><td>0</td><td>no</td><td>northeast</td><td>14451.8</td></tr><tr><th>28</th><td>55</td><td>female</td><td>32.775</td><td>2</td><td>no</td><td>northwest</td><td>12268.6</td></tr><tr><th>29</th><td>23</td><td>male</td><td>17.385</td><td>1</td><td>no</td><td>northwest</td><td>2775.19</td></tr><tr><th>30</th><td>31</td><td>male</td><td>36.3</td><td>2</td><td>yes</td><td>southwest</td><td>38711.0</td></tr><tr><th>&vellip;</th><td>&vellip;</td><td>&vellip;</td><td>&vellip;</td><td>&vellip;</td><td>&vellip;</td><td>&vellip;</td><td>&vellip;</td></tr></tbody></table>"
      ],
      "text/latex": [
       "\\begin{tabular}{r|ccccccc}\n",
       "\t& age & sex & bmi & children & smoker & region & charges\\\\\n",
       "\t\\hline\n",
       "\t& Int64 & String7 & Float64 & Int64 & String3 & String15 & Float64\\\\\n",
       "\t\\hline\n",
       "\t1 & 19 & female & 27.9 & 0 & yes & southwest & 16884.9 \\\\\n",
       "\t2 & 18 & male & 33.77 & 1 & no & southeast & 1725.55 \\\\\n",
       "\t3 & 28 & male & 33.0 & 3 & no & southeast & 4449.46 \\\\\n",
       "\t4 & 33 & male & 22.705 & 0 & no & northwest & 21984.5 \\\\\n",
       "\t5 & 32 & male & 28.88 & 0 & no & northwest & 3866.86 \\\\\n",
       "\t6 & 31 & female & 25.74 & 0 & no & southeast & 3756.62 \\\\\n",
       "\t7 & 46 & female & 33.44 & 1 & no & southeast & 8240.59 \\\\\n",
       "\t8 & 37 & female & 27.74 & 3 & no & northwest & 7281.51 \\\\\n",
       "\t9 & 37 & male & 29.83 & 2 & no & northeast & 6406.41 \\\\\n",
       "\t10 & 60 & female & 25.84 & 0 & no & northwest & 28923.1 \\\\\n",
       "\t11 & 25 & male & 26.22 & 0 & no & northeast & 2721.32 \\\\\n",
       "\t12 & 62 & female & 26.29 & 0 & yes & southeast & 27808.7 \\\\\n",
       "\t13 & 23 & male & 34.4 & 0 & no & southwest & 1826.84 \\\\\n",
       "\t14 & 56 & female & 39.82 & 0 & no & southeast & 11090.7 \\\\\n",
       "\t15 & 27 & male & 42.13 & 0 & yes & southeast & 39611.8 \\\\\n",
       "\t16 & 19 & male & 24.6 & 1 & no & southwest & 1837.24 \\\\\n",
       "\t17 & 52 & female & 30.78 & 1 & no & northeast & 10797.3 \\\\\n",
       "\t18 & 23 & male & 23.845 & 0 & no & northeast & 2395.17 \\\\\n",
       "\t19 & 56 & male & 40.3 & 0 & no & southwest & 10602.4 \\\\\n",
       "\t20 & 30 & male & 35.3 & 0 & yes & southwest & 36837.5 \\\\\n",
       "\t21 & 60 & female & 36.005 & 0 & no & northeast & 13228.8 \\\\\n",
       "\t22 & 30 & female & 32.4 & 1 & no & southwest & 4149.74 \\\\\n",
       "\t23 & 18 & male & 34.1 & 0 & no & southeast & 1137.01 \\\\\n",
       "\t24 & 34 & female & 31.92 & 1 & yes & northeast & 37701.9 \\\\\n",
       "\t25 & 37 & male & 28.025 & 2 & no & northwest & 6203.9 \\\\\n",
       "\t26 & 59 & female & 27.72 & 3 & no & southeast & 14001.1 \\\\\n",
       "\t27 & 63 & female & 23.085 & 0 & no & northeast & 14451.8 \\\\\n",
       "\t28 & 55 & female & 32.775 & 2 & no & northwest & 12268.6 \\\\\n",
       "\t29 & 23 & male & 17.385 & 1 & no & northwest & 2775.19 \\\\\n",
       "\t30 & 31 & male & 36.3 & 2 & yes & southwest & 38711.0 \\\\\n",
       "\t$\\dots$ & $\\dots$ & $\\dots$ & $\\dots$ & $\\dots$ & $\\dots$ & $\\dots$ & $\\dots$ \\\\\n",
       "\\end{tabular}\n"
      ],
      "text/plain": [
       "\u001b[1m1338×7 DataFrame\u001b[0m\n",
       "\u001b[1m  Row \u001b[0m│\u001b[1m age   \u001b[0m\u001b[1m sex     \u001b[0m\u001b[1m bmi     \u001b[0m\u001b[1m children \u001b[0m\u001b[1m smoker  \u001b[0m\u001b[1m region    \u001b[0m\u001b[1m charges  \u001b[0m\n",
       "\u001b[1m      \u001b[0m│\u001b[90m Int64 \u001b[0m\u001b[90m String7 \u001b[0m\u001b[90m Float64 \u001b[0m\u001b[90m Int64    \u001b[0m\u001b[90m String3 \u001b[0m\u001b[90m String15  \u001b[0m\u001b[90m Float64  \u001b[0m\n",
       "──────┼─────────────────────────────────────────────────────────────────\n",
       "    1 │    19  female    27.9           0  yes      southwest  16884.9\n",
       "    2 │    18  male      33.77          1  no       southeast   1725.55\n",
       "    3 │    28  male      33.0           3  no       southeast   4449.46\n",
       "    4 │    33  male      22.705         0  no       northwest  21984.5\n",
       "    5 │    32  male      28.88          0  no       northwest   3866.86\n",
       "    6 │    31  female    25.74          0  no       southeast   3756.62\n",
       "    7 │    46  female    33.44          1  no       southeast   8240.59\n",
       "    8 │    37  female    27.74          3  no       northwest   7281.51\n",
       "    9 │    37  male      29.83          2  no       northeast   6406.41\n",
       "   10 │    60  female    25.84          0  no       northwest  28923.1\n",
       "   11 │    25  male      26.22          0  no       northeast   2721.32\n",
       "  ⋮   │   ⋮       ⋮        ⋮        ⋮         ⋮         ⋮         ⋮\n",
       " 1329 │    23  female    24.225         2  no       northeast  22395.7\n",
       " 1330 │    52  male      38.6           2  no       southwest  10325.2\n",
       " 1331 │    57  female    25.74          2  no       southeast  12629.2\n",
       " 1332 │    23  female    33.4           0  no       southwest  10795.9\n",
       " 1333 │    52  female    44.7           3  no       southwest  11411.7\n",
       " 1334 │    50  male      30.97          3  no       northwest  10600.5\n",
       " 1335 │    18  female    31.92          0  no       northeast   2205.98\n",
       " 1336 │    18  female    36.85          0  no       southeast   1629.83\n",
       " 1337 │    21  female    25.8           0  no       southwest   2007.94\n",
       " 1338 │    61  female    29.07          0  yes      northwest  29141.4\n",
       "\u001b[36m                                                       1317 rows omitted\u001b[0m"
      ]
     },
     "execution_count": 1,
     "metadata": {},
     "output_type": "execute_result"
    }
   ],
   "source": [
    "using Flux, DataFrames, CSV\n",
    "df = CSV.read(\"insurance.csv\", DataFrame)"
   ]
  },
  {
   "cell_type": "code",
   "execution_count": 2,
   "metadata": {},
   "outputs": [
    {
     "data": {
      "text/plain": [
       "4×1338 BitMatrix:\n",
       " 1  0  0  0  0  0  0  0  0  0  0  0  1  …  0  0  0  1  0  1  1  0  0  0  1  0\n",
       " 0  1  1  0  0  1  1  0  0  0  0  1  0     0  1  0  0  1  0  0  0  0  1  0  0\n",
       " 0  0  0  1  1  0  0  1  0  1  0  0  0     0  0  0  0  0  0  0  1  0  0  0  1\n",
       " 0  0  0  0  0  0  0  0  1  0  1  0  0     1  0  1  0  0  0  0  0  1  0  0  0"
      ]
     },
     "execution_count": 2,
     "metadata": {},
     "output_type": "execute_result"
    }
   ],
   "source": [
    "# one-hot encode sex, being a smoker, and regions\n",
    "sex = permutedims(df.sex .== \"female\")\n",
    "smoker = permutedims(df.smoker .== \"yes\")\n",
    "region = (unique(df.region) .== permutedims(df.region))"
   ]
  },
  {
   "cell_type": "code",
   "execution_count": 3,
   "metadata": {},
   "outputs": [
    {
     "data": {
      "text/plain": [
       "1×1338 Matrix{Float64}:\n",
       " 0.298472  -0.953333  -0.728402  0.719574  …  -0.961237  -0.930014  1.31056"
      ]
     },
     "execution_count": 3,
     "metadata": {},
     "output_type": "execute_result"
    }
   ],
   "source": [
    "xs = Matrix{Float32}(vcat(permutedims(df.age), sex, permutedims(df.bmi), permutedims(df.children), smoker, region))\n",
    "ys = permutedims(df.charges)\n",
    "\n",
    "# Normalization\n",
    "using Statistics: mean, std\n",
    "\n",
    "xs .-= mean(xs, dims=2)\n",
    "xs ./= std(xs, dims=2)\n",
    "\n",
    "ys .-= mean(ys, dims=2)\n",
    "ys ./= std(ys, dims=2)"
   ]
  },
  {
   "cell_type": "code",
   "execution_count": 4,
   "metadata": {},
   "outputs": [
    {
     "data": {
      "text/plain": [
       "(Float32[-1.438226 -0.797655 … -1.2958769 1.5511055; 1.0101442 -0.98922414 … 1.0101442 1.0101442; … ; -0.5662043 -0.5662043 … -0.5662043 1.7648153; -0.56505513 -0.56505513 … -0.56505513 -0.56505513], [0.29847220322195916 -0.728402318770214 … -0.9300137749678821 1.3105634441336376])"
      ]
     },
     "execution_count": 4,
     "metadata": {},
     "output_type": "execute_result"
    }
   ],
   "source": [
    "# separating the test set and training set\n",
    "test_set_percentage = 15\n",
    "\n",
    "test_set_indices = rand(1:nrow(df), Int(round(test_set_percentage / 100 * nrow(df))))\n",
    "train_set_indices = setdiff(1:nrow(df), test_set_indices)\n",
    "\n",
    "xtest, ytest = xs[:, test_set_indices], ys[:, test_set_indices]\n",
    "xtrain, ytrain = xs[:, train_set_indices], ys[:, train_set_indices]"
   ]
  },
  {
   "cell_type": "markdown",
   "metadata": {},
   "source": [
    "## Training"
   ]
  },
  {
   "cell_type": "code",
   "execution_count": 5,
   "metadata": {},
   "outputs": [
    {
     "data": {
      "text/plain": [
       "Params([Float32[-0.71297485 0.3522394 … -0.57007253 0.059994113], Float32[0.0]])"
      ]
     },
     "execution_count": 5,
     "metadata": {},
     "output_type": "execute_result"
    }
   ],
   "source": [
    "lambda = 0.1\n",
    "model = Flux.Dense(9 => 1)\n",
    "loss(x, y) = Flux.mse(model(x), y) + lambda * sum(abs2, model.weight)\n",
    "optimiser = Flux.Descent()\n",
    "parameters = Flux.params(model)"
   ]
  },
  {
   "cell_type": "code",
   "execution_count": 6,
   "metadata": {},
   "outputs": [
    {
     "data": {
      "text/plain": [
       "3.153158343188032"
      ]
     },
     "execution_count": 6,
     "metadata": {},
     "output_type": "execute_result"
    }
   ],
   "source": [
    "loss(xtest, ytest)"
   ]
  },
  {
   "cell_type": "code",
   "execution_count": 7,
   "metadata": {},
   "outputs": [],
   "source": [
    "for _ in 1:10000\n",
    "    Flux.train!(loss, parameters, [(xtrain, ytrain)], optimiser)\n",
    "end"
   ]
  },
  {
   "cell_type": "code",
   "execution_count": 8,
   "metadata": {},
   "outputs": [
    {
     "data": {
      "text/plain": [
       "0.32709130973580575"
      ]
     },
     "execution_count": 8,
     "metadata": {},
     "output_type": "execute_result"
    }
   ],
   "source": [
    "loss(xtest, ytest)"
   ]
  },
  {
   "cell_type": "code",
   "execution_count": 11,
   "metadata": {},
   "outputs": [
    {
     "data": {
      "text/markdown": [
       "$\\theta_0 = -0.0076105306$"
      ]
     },
     "metadata": {},
     "output_type": "display_data"
    },
    {
     "data": {
      "text/markdown": [
       "$\\theta_1 = 0.2738731$"
      ]
     },
     "metadata": {},
     "output_type": "display_data"
    },
    {
     "data": {
      "text/markdown": [
       "$\\theta_2 = 0.0013144038$"
      ]
     },
     "metadata": {},
     "output_type": "display_data"
    },
    {
     "data": {
      "text/markdown": [
       "$\\theta_3 = 0.15348485$"
      ]
     },
     "metadata": {},
     "output_type": "display_data"
    },
    {
     "data": {
      "text/markdown": [
       "$\\theta_4 = 0.044129185$"
      ]
     },
     "metadata": {},
     "output_type": "display_data"
    },
    {
     "data": {
      "text/markdown": [
       "$\\theta_5 = 0.72482073$"
      ]
     },
     "metadata": {},
     "output_type": "display_data"
    },
    {
     "data": {
      "text/markdown": [
       "$\\theta_6 = -0.016531605$"
      ]
     },
     "metadata": {},
     "output_type": "display_data"
    },
    {
     "data": {
      "text/markdown": [
       "$\\theta_7 = -0.010159851$"
      ]
     },
     "metadata": {},
     "output_type": "display_data"
    },
    {
     "data": {
      "text/markdown": [
       "$\\theta_8 = 0.005979021$"
      ]
     },
     "metadata": {},
     "output_type": "display_data"
    },
    {
     "data": {
      "text/markdown": [
       "$\\theta_9 = 0.021117795$"
      ]
     },
     "metadata": {},
     "output_type": "display_data"
    }
   ],
   "source": [
    "display(\"text/markdown\", \"\\$\\\\theta_0 = $(model.bias[1])\\$\")\n",
    "for i in 1:9\n",
    "    display(\"text/markdown\", \"\\$\\\\theta_$i = $(model.weight[i])\\$\")\n",
    "end"
   ]
  },
  {
   "cell_type": "markdown",
   "metadata": {},
   "source": [
    "# 4) Identical Data for a Neural Network"
   ]
  },
  {
   "cell_type": "markdown",
   "metadata": {},
   "source": [
    "Every example will be assigned as B. Specifically, the output number will be much closer to 1. That is unless the optimizer somehow gets stuck in a local minimum, which is unlikely if everything is configured correctly.\n",
    "\n",
    "The cost function is a simple mean squared error function. this is trivially minimalizable, given a linear hypothesis. But with a nonlinear hypothesis, there might exist local minimums. Nevertheless, given our data, the global minimum is where all data is classified as B (output closer to 1)."
   ]
  },
  {
   "cell_type": "markdown",
   "metadata": {},
   "source": [
    "# 5) Partial Derivative of Integral Cost Function"
   ]
  },
  {
   "cell_type": "markdown",
   "metadata": {},
   "source": [
    "The optimum hypothesis is irrelevant here; this is just a simple derivative problem. According to the Leibnitz integral rule,\n",
    "$${\\frac {d}{dx}}\\left(\\int _{a(x)}^{b(x)}f(x,t)\\,dt\\right)=f{\\big (}x,b(x){\\big )}\\cdot {\\frac {d}{dx}}b(x)-f{\\big (}x,a(x){\\big )}\\cdot {\\frac {d}{dx}}a(x)+\\int _{a(x)}^{b(x)}{\\frac {\\partial }{\\partial x}}f(x,t)\\,dt, $$\n",
    "so,\n",
    "$$\\frac{\\partial E}{\\partial w_s} = \\int\\int \\frac{\\partial y}{\\partial w_s}(y(\\mathbf{x}, \\mathbf{w}) - t) p(\\mathbf{x}, t)\\, d\\mathbf{x} \\, dt.$$\n",
    "Taking the second derivative,\n",
    "$$\\frac{\\partial^2 E}{\\partial w_r\\partial w_s} = \\int\\int \\frac{\\partial y}{\\partial w_r}\\frac{\\partial y}{\\partial w_s} p(\\mathbf{x}, t)\\, d\\mathbf{x} \\, dt.$$\n",
    "Finally, $y$ does not depend on $t$, so we can take the $t$ integral.\n",
    "$$\\frac{\\partial^2 E}{\\partial w_r\\partial w_s} = \\int \\frac{\\partial y}{\\partial w_r}\\frac{\\partial y}{\\partial w_s} p(\\mathbf{x})\\, d\\mathbf{x}$$"
   ]
  }
 ],
 "metadata": {
  "kernelspec": {
   "display_name": "Julia 1.7.0",
   "language": "julia",
   "name": "julia-1.7"
  },
  "language_info": {
   "file_extension": ".jl",
   "mimetype": "application/julia",
   "name": "julia",
   "version": "1.7.0"
  },
  "orig_nbformat": 4
 },
 "nbformat": 4,
 "nbformat_minor": 2
}
